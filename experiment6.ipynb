{
 "cells": [
  {
   "cell_type": "code",
   "execution_count": null,
   "id": "initial_id",
   "metadata": {
    "collapsed": true
   },
   "outputs": [],
   "source": [
    "# Experiment 6: Missing Value and Outlier Handling\n",
    "import pandas as pd\n",
    "import numpy as np\n",
    "from scipy import stats"
   ]
  },
  {
   "metadata": {},
   "cell_type": "markdown",
   "source": [
    "\n",
    "# Step 1: Load the dataset\n",
    "# Replace 'your_dataset.csv' with the path to your dataset file"
   ],
   "id": "4e3bb7852181715"
  },
  {
   "metadata": {},
   "cell_type": "code",
   "outputs": [],
   "execution_count": null,
   "source": "data = pd.read_csv('dataset/student-dataset.csv.csv')",
   "id": "a765dc3089b7c4bc"
  },
  {
   "metadata": {},
   "cell_type": "markdown",
   "source": "# Step 2: Check for missing values",
   "id": "a12c805df695f993"
  },
  {
   "metadata": {},
   "cell_type": "code",
   "outputs": [],
   "execution_count": null,
   "source": [
    "\n",
    "print(\"\\nMissing Values in Each Column:\")\n",
    "print(data.isnull().sum())"
   ],
   "id": "6d5f574b195c96c1"
  },
  {
   "metadata": {},
   "cell_type": "markdown",
   "source": "# Step 3: Handle missing values",
   "id": "e4069a7ea105e819"
  },
  {
   "metadata": {},
   "cell_type": "code",
   "outputs": [],
   "execution_count": null,
   "source": [
    "\n",
    "# Impute missing values with the mean (for numerical columns)\n",
    "data.fillna(data.mean(), inplace=True)\n",
    "\n",
    "print(\"\\nData after Handling Missing Values:\")\n",
    "print(data.head())"
   ],
   "id": "1e88c053abd729bf"
  },
  {
   "metadata": {},
   "cell_type": "markdown",
   "source": "# Step 4: Handling outliers using Z-Score method",
   "id": "97d920c26cdf2b8d"
  },
  {
   "metadata": {},
   "cell_type": "code",
   "outputs": [],
   "execution_count": null,
   "source": [
    "\n",
    "# Select only numerical columns for outlier detection\n",
    "numerical_data = data.select_dtypes(include=['float64', 'int64'])\n",
    "\n",
    "# Calculate Z-scores for numerical columns\n",
    "z_scores = np.abs(stats.zscore(numerical_data))\n",
    "# Set a threshold for Z-score (commonly 3)\n",
    "threshold = 3\n",
    "# Filter out rows where any column's Z-score is greater than the threshold\n",
    "data_no_outliers = data[(z_scores < threshold).all(axis=1)]\n",
    "\n",
    "print(\"\\nData after Outlier Removal using Z-score:\")\n",
    "print(data_no_outliers.head())"
   ],
   "id": "ec63dc55fc665fae"
  },
  {
   "metadata": {},
   "cell_type": "code",
   "outputs": [],
   "execution_count": null,
   "source": [
    "\n",
    "#  Handling outliers using IQR method\n",
    "\n",
    "# \n",
    "Q1 = data.quantile(0.25)\n",
    "Q3 = data.quantile(0.75)\n",
    "IQR = Q3 - Q1\n",
    "\n",
    "lower_bound = Q1 - 1.5 * IQR\n",
    "upper_bound = Q3 + 1.5 * IQR\n",
    "# \n",
    "# Filter out rows with outliers based on IQR\n",
    "data_no_outliers_iqr = data[~((data < lower_bound) | (data > upper_bound)).any(axis=1)]\n",
    "\n",
    "print(\"\\nData after Outlier Removal using IQR:\")\n",
    "print(data_no_outliers_iqr.head())\n"
   ],
   "id": "2ad4600455c45efc"
  }
 ],
 "metadata": {
  "kernelspec": {
   "display_name": "Python 3",
   "language": "python",
   "name": "python3"
  },
  "language_info": {
   "codemirror_mode": {
    "name": "ipython",
    "version": 2
   },
   "file_extension": ".py",
   "mimetype": "text/x-python",
   "name": "python",
   "nbconvert_exporter": "python",
   "pygments_lexer": "ipython2",
   "version": "2.7.6"
  }
 },
 "nbformat": 4,
 "nbformat_minor": 5
}
